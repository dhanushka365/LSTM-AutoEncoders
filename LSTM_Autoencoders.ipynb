{
  "nbformat": 4,
  "nbformat_minor": 0,
  "metadata": {
    "colab": {
      "name": "LSTM Autoencoders",
      "provenance": [],
      "authorship_tag": "ABX9TyMtBcNfZ7aXB93LnRdLKSae",
      "include_colab_link": true
    },
    "kernelspec": {
      "name": "python3",
      "display_name": "Python 3"
    },
    "language_info": {
      "name": "python"
    }
  },
  "cells": [
    {
      "cell_type": "markdown",
      "metadata": {
        "id": "view-in-github",
        "colab_type": "text"
      },
      "source": [
        "<a href=\"https://colab.research.google.com/github/dhanushka365/LSTM-AutoEncoders/blob/main/LSTM_Autoencoders.ipynb\" target=\"_parent\"><img src=\"https://colab.research.google.com/assets/colab-badge.svg\" alt=\"Open In Colab\"/></a>"
      ]
    },
    {
      "cell_type": "code",
      "execution_count": 11,
      "metadata": {
        "id": "18BjGfeMzCuu"
      },
      "outputs": [],
      "source": [
        "import numpy as np\n",
        "from keras.models import Sequential\n",
        "from keras.layers import LSTM, Input, Dropout\n",
        "from keras.layers import Dense\n",
        "from keras.layers import RepeatVector\n",
        "from keras.layers import TimeDistributed\n",
        "import pandas as pd\n",
        "from matplotlib import pyplot as plt \n",
        "from sklearn.preprocessing import MinMaxScaler , StandardScaler\n",
        "from keras.models import Model\n",
        "import seaborn as sns\n",
        "import sys"
      ]
    },
    {
      "cell_type": "code",
      "source": [
        "from google.colab import drive\n",
        "drive.mount('/content/drive')"
      ],
      "metadata": {
        "colab": {
          "base_uri": "https://localhost:8080/"
        },
        "id": "bNyM6QfJ53A9",
        "outputId": "3cfc0065-ed8e-4a02-e14d-573292522255"
      },
      "execution_count": 3,
      "outputs": [
        {
          "output_type": "stream",
          "name": "stdout",
          "text": [
            "Mounted at /content/drive\n"
          ]
        }
      ]
    },
    {
      "cell_type": "code",
      "source": [
        "#Load the sequence data from csv\n",
        "dataframe = pd.read_csv('/content/drive/MyDrive/Anomaly/GE.csv')\n",
        "df = dataframe[['Date', 'Close']]\n",
        "df['Date']=pd.to_datetime(df['Date'])\n",
        "\n",
        "sns.lineplot(x=df['Date'],y=df['Close'])\n",
        "print(\"Start date is:\", df['Date'].min())\n",
        "print(\"End date is:\", df['Date'].max())\n"
      ],
      "metadata": {
        "colab": {
          "base_uri": "https://localhost:8080/",
          "height": 418
        },
        "id": "NdYa5W3e6RsW",
        "outputId": "72f7bfa2-4c3b-486c-81fa-6fcb6a5934bd"
      },
      "execution_count": 4,
      "outputs": [
        {
          "output_type": "stream",
          "name": "stderr",
          "text": [
            "/usr/local/lib/python3.7/dist-packages/ipykernel_launcher.py:4: SettingWithCopyWarning: \n",
            "A value is trying to be set on a copy of a slice from a DataFrame.\n",
            "Try using .loc[row_indexer,col_indexer] = value instead\n",
            "\n",
            "See the caveats in the documentation: https://pandas.pydata.org/pandas-docs/stable/user_guide/indexing.html#returning-a-view-versus-a-copy\n",
            "  after removing the cwd from sys.path.\n"
          ]
        },
        {
          "output_type": "stream",
          "name": "stdout",
          "text": [
            "Start date is: 2021-06-16 00:00:00\n",
            "End date is: 2022-06-16 00:00:00\n"
          ]
        },
        {
          "output_type": "display_data",
          "data": {
            "text/plain": [
              "<Figure size 432x288 with 1 Axes>"
            ],
            "image/png": "[encoded data removed]"
          },
          "metadata": {
            "needs_background": "light"
          }
        }
      ]
    },
    {
      "cell_type": "code",
      "source": [
        "train, test =df.loc[df['Date'] <= '2021-11-30'], df.loc[df['Date'] >'2021-11-30']\n",
        "\n",
        "scaler = StandardScaler()\n",
        "scaler = scaler.fit(train[['Close']])\n",
        "\n",
        "train['Close']= scaler.transform(train[['Close']])\n",
        "test['Close'] = scaler.transform(test[['Close']])\n"
      ],
      "metadata": {
        "colab": {
          "base_uri": "https://localhost:8080/"
        },
        "id": "vt_i9EwRkAQ1",
        "outputId": "9d27be33-104e-4ce3-b543-40828a851fb1"
      },
      "execution_count": 12,
      "outputs": [
        {
          "output_type": "stream",
          "name": "stderr",
          "text": [
            "/usr/local/lib/python3.7/dist-packages/ipykernel_launcher.py:6: SettingWithCopyWarning: \n",
            "A value is trying to be set on a copy of a slice from a DataFrame.\n",
            "Try using .loc[row_indexer,col_indexer] = value instead\n",
            "\n",
            "See the caveats in the documentation: https://pandas.pydata.org/pandas-docs/stable/user_guide/indexing.html#returning-a-view-versus-a-copy\n",
            "  \n",
            "/usr/local/lib/python3.7/dist-packages/ipykernel_launcher.py:7: SettingWithCopyWarning: \n",
            "A value is trying to be set on a copy of a slice from a DataFrame.\n",
            "Try using .loc[row_indexer,col_indexer] = value instead\n",
            "\n",
            "See the caveats in the documentation: https://pandas.pydata.org/pandas-docs/stable/user_guide/indexing.html#returning-a-view-versus-a-copy\n",
            "  import sys\n"
          ]
        }
      ]
    },
    {
      "cell_type": "code",
      "source": [
        "seq_size = 30\n",
        "\n",
        "def to_sequences(x , y , seq_size=1):\n",
        "  x_values = []\n",
        "  y_values = []\n",
        "\n",
        "  for i in range(len(x)-seq_size):\n",
        "    x_values.append(x.iloc[i:(i+seq_size)].values)\n",
        "    y_values.append(y.iloc[i+seq_size])\n",
        "\n",
        "  return np.array(x_values),np.array(y_values)\n",
        "\n",
        "trainX , trainY = to_sequences(train[['Close']], train['Close'], seq_size)\n",
        "testX , testY = to_sequences(test[['Close']], test['Close'], seq_size)"
      ],
      "metadata": {
        "id": "SFrGRHaTmhOK"
      },
      "execution_count": 13,
      "outputs": []
    },
    {
      "cell_type": "code",
      "source": [
        ""
      ],
      "metadata": {
        "id": "J67aPjzTn1N0"
      },
      "execution_count": null,
      "outputs": []
    }
  ]
}