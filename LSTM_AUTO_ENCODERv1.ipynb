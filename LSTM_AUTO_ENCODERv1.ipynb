{
  "nbformat": 4,
  "nbformat_minor": 0,
  "metadata": {
    "colab": {
      "provenance": [],
      "private_outputs": true,
      "authorship_tag": "ABX9TyPYpVckjGL3lEe86M4KLQuT",
      "include_colab_link": true
    },
    "kernelspec": {
      "name": "python3",
      "display_name": "Python 3"
    },
    "language_info": {
      "name": "python"
    },
    "accelerator": "TPU",
    "gpuClass": "standard"
  },
  "cells": [
    {
      "cell_type": "markdown",
      "metadata": {
        "id": "view-in-github",
        "colab_type": "text"
      },
      "source": [
        "<a href=\"https://colab.research.google.com/github/dhanushka365/LSTM-AutoEncoders/blob/main/LSTM_AUTO_ENCODERv1.ipynb\" target=\"_parent\"><img src=\"https://colab.research.google.com/assets/colab-badge.svg\" alt=\"Open In Colab\"/></a>"
      ]
    },
    {
      "cell_type": "code",
      "execution_count": null,
      "metadata": {
        "id": "8YYcb3VvbN81"
      },
      "outputs": [],
      "source": [
        "import sys\n",
        "!pip install --prefix {sys.prefix} pandas tensorflow scikit-learn matplotlib"
      ]
    },
    {
      "cell_type": "code",
      "source": [
        "from google.colab import drive\n",
        "drive.mount('/content/drive')"
      ],
      "metadata": {
        "id": "cGEvAShQbanZ"
      },
      "execution_count": null,
      "outputs": []
    },
    {
      "cell_type": "code",
      "source": [
        "import numpy as np\n",
        "import pandas as pd\n",
        "import matplotlib.pyplot as plt\n",
        "import seaborn as sns\n",
        "from tensorflow import keras\n",
        "from sklearn.preprocessing import StandardScaler\n",
        "import numpy as np\n",
        "import tensorflow as tf\n",
        "import pandas as pd\n",
        "import plotly.graph_objects as go\n",
        "import matplotlib.pyplot as plt\n",
        "!pip install tensorflow\n",
        "from tensorflow.keras.models import Sequential\n",
        "from tensorflow.keras.layers import Dense, LSTM, Dropout, RepeatVector, TimeDistributed"
      ],
      "metadata": {
        "id": "xrnSNVlUbsNB"
      },
      "execution_count": null,
      "outputs": []
    },
    {
      "cell_type": "code",
      "source": [
        "#Load the sequence data from csv\n",
        "df = pd.read_csv('/content/drive/MyDrive/hourly_csv/AEP_hourly.csv')"
      ],
      "metadata": {
        "id": "C2FIWFfTboOS"
      },
      "execution_count": null,
      "outputs": []
    },
    {
      "cell_type": "code",
      "source": [
        "df.head()"
      ],
      "metadata": {
        "id": "9--JfKkbbx95"
      },
      "execution_count": null,
      "outputs": []
    },
    {
      "cell_type": "code",
      "source": [
        "dataset = df\n",
        "dataset[\"Month\"] = pd.to_datetime(df[\"Datetime\"]).dt.month\n",
        "dataset[\"Year\"] = pd.to_datetime(df[\"Datetime\"]).dt.year\n",
        "dataset[\"Date\"] = pd.to_datetime(df[\"Datetime\"]).dt.date\n",
        "dataset[\"Time\"] = pd.to_datetime(df[\"Datetime\"]).dt.time\n",
        "dataset[\"Week\"] = pd.to_datetime(df[\"Datetime\"]).dt.isocalendar().week\n",
        "dataset[\"Day\"] = pd.to_datetime(df[\"Datetime\"]).dt.day_name()\n"
      ],
      "metadata": {
        "id": "CxtdspNQcJgR"
      },
      "execution_count": null,
      "outputs": []
    },
    {
      "cell_type": "markdown",
      "source": [
        "**Data Time Period**"
      ],
      "metadata": {
        "id": "nmUrxGnGcSpC"
      }
    },
    {
      "cell_type": "code",
      "source": [
        "df['Date'].min(), df['Date'].max()"
      ],
      "metadata": {
        "id": "qLWrG4D9cVdk"
      },
      "execution_count": null,
      "outputs": []
    },
    {
      "cell_type": "markdown",
      "source": [
        "# Visualize the data"
      ],
      "metadata": {
        "id": "WXvyffXrcdzT"
      }
    },
    {
      "cell_type": "code",
      "source": [
        "fig = go.Figure()\n",
        "fig.add_trace(go.Scatter(x=df['Date'], y=df['AEP_MW'], name='AEP_MW'))\n",
        "fig.update_layout(showlegend=True, title='Electricity usage 2004-2020')\n",
        "fig.show()"
      ],
      "metadata": {
        "id": "1o5ODMvkce5r"
      },
      "execution_count": null,
      "outputs": []
    },
    {
      "cell_type": "markdown",
      "source": [
        "# Data Preprocessing"
      ],
      "metadata": {
        "id": "mjy7g0RZdCKN"
      }
    },
    {
      "cell_type": "code",
      "source": [
        "startdate = pd.to_datetime(\"2006-12-10\").date()\n",
        "enddate = pd.to_datetime(\"2010-6-10\").date()\n",
        "train = df.loc[df['Date'] <= startdate]\n",
        "test = df.loc[df['Date'] > enddate]\n",
        "train.shape, test.shape"
      ],
      "metadata": {
        "id": "xPjYuLZhdFtd"
      },
      "execution_count": null,
      "outputs": []
    },
    {
      "cell_type": "markdown",
      "source": [
        "# Data Scaling"
      ],
      "metadata": {
        "id": "kLqh_VcbeHhy"
      }
    },
    {
      "cell_type": "code",
      "source": [
        "scaler = StandardScaler()\n",
        "scaler = scaler.fit(np.array(train['AEP_MW']).reshape(-1,1))\n",
        "\n",
        "train['AEP_MW'] = scaler.transform(np.array(train['AEP_MW']).reshape(-1,1))\n",
        "test['AEP_MW'] = scaler.transform(np.array(test['AEP_MW']).reshape(-1,1))"
      ],
      "metadata": {
        "id": "x00mmZJHeJKk"
      },
      "execution_count": null,
      "outputs": []
    },
    {
      "cell_type": "code",
      "source": [
        "# Visualize scaled data\n",
        "plt.plot(train['AEP_MW'], label = 'scaled')\n",
        "plt.legend()\n",
        "plt.show()"
      ],
      "metadata": {
        "id": "JhTLlenAebt6"
      },
      "execution_count": null,
      "outputs": []
    },
    {
      "cell_type": "markdown",
      "source": [
        "# Create sequences"
      ],
      "metadata": {
        "id": "ibDgwaKKenJp"
      }
    },
    {
      "cell_type": "code",
      "source": [
        "TIME_STEPS=30\n",
        "\n",
        "def create_sequences(X, y, time_steps=TIME_STEPS):\n",
        "    X_out, y_out = [], []\n",
        "    for i in range(len(X)-time_steps):\n",
        "        X_out.append(X.iloc[i:(i+time_steps)].values)\n",
        "        y_out.append(y.iloc[i+time_steps])\n",
        "    \n",
        "    return np.array(X_out), np.array(y_out)\n",
        "\n",
        "X_train, y_train = create_sequences(train[['AEP_MW']], train['AEP_MW'])\n",
        "X_test, y_test = create_sequences(test[['AEP_MW']], test['AEP_MW'])\n",
        "print(\"Training input shape: \", X_train.shape)\n",
        "print(\"Testing input shape: \", X_test.shape)"
      ],
      "metadata": {
        "id": "C56KhIYxeogA"
      },
      "execution_count": null,
      "outputs": []
    },
    {
      "cell_type": "code",
      "source": [
        "# set seed to regenerate same sequence of random numbers. \n",
        "np.random.seed(21)\n",
        "tf.random.set_seed(21)"
      ],
      "metadata": {
        "id": "VsYItsrUe5ZR"
      },
      "execution_count": null,
      "outputs": []
    },
    {
      "cell_type": "markdown",
      "source": [
        "# Build a model"
      ],
      "metadata": {
        "id": "mYpnAcJue8O5"
      }
    },
    {
      "cell_type": "code",
      "source": [
        "print(X_train.shape[1])"
      ],
      "metadata": {
        "id": "x7AS1aK1f9hC"
      },
      "execution_count": null,
      "outputs": []
    },
    {
      "cell_type": "code",
      "source": [
        "print(X_train.shape[2])"
      ],
      "metadata": {
        "id": "haEz5V5XgGsC"
      },
      "execution_count": null,
      "outputs": []
    },
    {
      "cell_type": "code",
      "source": [
        "model = Sequential()\n",
        "model.add(LSTM(128, activation = 'tanh', input_shape=(X_train.shape[1], X_train.shape[2])))\n",
        "model.add(Dropout(rate=0.1))\n",
        "model.add(RepeatVector(X_train.shape[1]))\n",
        "model.add(LSTM(128, activation = 'tanh', return_sequences=True))\n",
        "model.add(Dropout(rate=0.1))\n",
        "model.add(TimeDistributed(Dense(X_train.shape[2])))\n",
        "model.compile(loss=\"mean_squared_error\",optimizer=\"adam\",metrics=[\"mse\"])\n",
        "model.summary()"
      ],
      "metadata": {
        "id": "xZWIhZuoe-WJ"
      },
      "execution_count": null,
      "outputs": []
    },
    {
      "cell_type": "code",
      "source": [
        "history = model.fit(X_train,\n",
        "                    y_train,\n",
        "                    epochs=4,\n",
        "                    batch_size=5000,\n",
        "                    validation_split=0.1)"
      ],
      "metadata": {
        "id": "0c5ET5gqfRKK"
      },
      "execution_count": null,
      "outputs": []
    },
    {
      "cell_type": "markdown",
      "source": [
        "# Plot Training - Validation loss"
      ],
      "metadata": {
        "id": "mIkdMarQh5hi"
      }
    },
    {
      "cell_type": "code",
      "source": [
        "plt.plot(history.history['loss'], label='Training loss')\n",
        "plt.plot(history.history['val_loss'], label='Validation loss')\n",
        "plt.xlabel('Epoch')\n",
        "plt.ylabel('Loss')\n",
        "plt.legend();"
      ],
      "metadata": {
        "id": "IbnWvbDjfl0Z"
      },
      "execution_count": null,
      "outputs": []
    },
    {
      "cell_type": "code",
      "source": [
        "# Mean Absolute Error loss\n",
        "X_train_pred = model.predict(X_train)\n",
        "train_mae_loss = np.mean(np.abs(X_train_pred - X_train), axis=1)\n",
        "\n",
        "plt.hist(train_mae_loss, bins=50)\n",
        "plt.xlabel('Train MAE loss')\n",
        "plt.ylabel('Number of Samples');\n",
        "\n",
        "# Set reconstruction error threshold\n",
        "threshold = np.max(train_mae_loss)\n",
        "\n",
        "print('Reconstruction error threshold:',threshold)"
      ],
      "metadata": {
        "id": "JHevvIqsiCJh"
      },
      "execution_count": null,
      "outputs": []
    },
    {
      "cell_type": "markdown",
      "source": [
        "# Predict Anomalies on test data using threshold"
      ],
      "metadata": {
        "id": "ckgAkQ_gUpx6"
      }
    },
    {
      "cell_type": "code",
      "source": [
        "X_test_pred = model.predict(X_test, verbose=1)\n",
        "test_mae_loss = np.mean(np.abs(X_test_pred-X_test), axis=1)\n",
        "\n",
        "plt.hist(test_mae_loss, bins=50)\n",
        "plt.xlabel('Test MAE loss')\n",
        "plt.ylabel('Number of samples')"
      ],
      "metadata": {
        "id": "bfDE4NNxUhfS"
      },
      "execution_count": null,
      "outputs": []
    },
    {
      "cell_type": "code",
      "source": [
        "anomaly_df = pd.DataFrame(test[TIME_STEPS:])\n",
        "anomaly_df['loss'] = test_mae_loss\n",
        "anomaly_df['threshold'] = threshold\n",
        "anomaly_df['anomaly'] = anomaly_df['loss'] > anomaly_df['threshold']"
      ],
      "metadata": {
        "id": "9EuUFiktU1dA"
      },
      "execution_count": null,
      "outputs": []
    },
    {
      "cell_type": "code",
      "source": [
        "anomaly_df.head()"
      ],
      "metadata": {
        "id": "pMxqosWSU4PQ"
      },
      "execution_count": null,
      "outputs": []
    },
    {
      "cell_type": "code",
      "source": [
        "fig = go.Figure()\n",
        "fig.add_trace(go.Scatter(x=anomaly_df['Date'], y=anomaly_df['loss'], name='Test loss'))\n",
        "fig.add_trace(go.Scatter(x=anomaly_df['Date'], y=anomaly_df['threshold'], name='Threshold'))\n",
        "fig.update_layout(showlegend=True, title='Test loss vs. Threshold')\n",
        "fig.show()"
      ],
      "metadata": {
        "id": "kYSH8OYXVAjZ"
      },
      "execution_count": null,
      "outputs": []
    },
    {
      "cell_type": "code",
      "source": [
        "anomalies = anomaly_df.loc[anomaly_df['anomaly'] == True]\n",
        "anomalies.head()"
      ],
      "metadata": {
        "id": "Sn7xo_3PVPvY"
      },
      "execution_count": null,
      "outputs": []
    },
    {
      "cell_type": "code",
      "source": [
        "anomalies.shape"
      ],
      "metadata": {
        "id": "y9g9nEjdVTl4"
      },
      "execution_count": null,
      "outputs": []
    },
    {
      "cell_type": "code",
      "source": [
        "anomaly_df['AEP_MW'] = scaler.inverse_transform(np.array(anomaly_df['AEP_MW']).reshape(-1,1))\n"
      ],
      "metadata": {
        "id": "X1jrrK46c8_z"
      },
      "execution_count": null,
      "outputs": []
    },
    {
      "cell_type": "code",
      "source": [
        "anomalies['AEP_MW'] = scaler.inverse_transform(np.array(anomalies['AEP_MW']).reshape(-1,1))"
      ],
      "metadata": {
        "id": "V-C-2wjbq5is"
      },
      "execution_count": null,
      "outputs": []
    },
    {
      "cell_type": "code",
      "source": [
        "fig = go.Figure()\n",
        "fig.add_trace(go.Scatter(x=anomaly_df['Date'], y=anomaly_df['AEP_MW'], name='Close price'))\n",
        "fig.add_trace(go.Scatter(x=anomalies['Date'], y=anomalies['AEP_MW'], mode='markers', name='Anomaly'))\n",
        "fig.update_layout(showlegend=True, title='Detected anomalies')\n",
        "fig.show()"
      ],
      "metadata": {
        "id": "OjZCMHMGVW1g"
      },
      "execution_count": null,
      "outputs": []
    }
  ]
}